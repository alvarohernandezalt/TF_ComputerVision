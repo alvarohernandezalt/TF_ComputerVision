{
  "nbformat": 4,
  "nbformat_minor": 0,
  "metadata": {
    "colab": {
      "provenance": []
    },
    "kernelspec": {
      "name": "python3",
      "display_name": "Python 3"
    },
    "language_info": {
      "name": "python"
    }
  },
  "cells": [
    {
      "cell_type": "markdown",
      "source": [
        "## Getting Started with TensorFlow for Computer Vision\n",
        "\n"
      ],
      "metadata": {
        "id": "F9N7P5zZ2n9C"
      }
    },
    {
      "cell_type": "markdown",
      "source": [
        "### Working with the basic building blocks of the Keras API"
      ],
      "metadata": {
        "id": "s-WWmz1m3TzT"
      }
    },
    {
      "cell_type": "code",
      "source": [
        "# Import the required libraries from the Keras API\n",
        "\n",
        "from sklearn.model_selection import train_test_split\n",
        "from sklearn.preprocessing import LabelBinarizer\n",
        "from tensorflow.keras import Input\n",
        "from tensorflow.keras.datasets import mnist\n",
        "from tensorflow.keras.layers import Dense\n",
        "from tensorflow.keras.models import Model\n",
        "from tensorflow.keras.models import Sequential"
      ],
      "metadata": {
        "id": "jpw7wue73boy"
      },
      "execution_count": 2,
      "outputs": []
    },
    {
      "cell_type": "code",
      "source": [
        "# Create a model using the sequential API by passing a list of layers to the Sequential constructor.\n",
        "# The numbers in each layer correspond to the number of neurons or units it contains.\n",
        "\n",
        "layers = [Dense(256, input_shape=(28 * 28 * 1,),\n",
        "                activation='sigmoid'),\n",
        "          Dense(128, activation='sigmoid'),\n",
        "          Dense(10, activation='softmax')]\n",
        "sequential_model_list = Sequential(layers)"
      ],
      "metadata": {
        "id": "kJE8lPhy35yM"
      },
      "execution_count": 4,
      "outputs": []
    },
    {
      "cell_type": "code",
      "source": [
        "# Create a model using the add() method to add one layer at a time.\n",
        "# The numbers in each layer correspond to the number of neurons or units it contains:\n",
        "\n",
        "sequential_model = Sequential()\n",
        "sequential_model.add(Dense(256, input_shape=(28 * 28 * 1,),\n",
        "                activation='sigmoid'))\n",
        "sequential_model.add(Dense(128, activation='sigmoid'))\n",
        "sequential_model.add(Dense(10, activation='softmax'))"
      ],
      "metadata": {
        "id": "A-pUWKaP6svc"
      },
      "execution_count": 5,
      "outputs": []
    },
    {
      "cell_type": "code",
      "source": [
        "# Create a model using the Functional API.\n",
        "# The numbers in each layer correspond to the number of neurons or units it contains:\n",
        "\n",
        "imput_layer = Input(shape=(28 * 28 * 1,))\n",
        "dense_1 = Dense(256, activation='sigmoid')(input_layer)\n"
      ],
      "metadata": {
        "id": "R2fF4Jx87hW4"
      },
      "execution_count": null,
      "outputs": []
    }
  ]
}