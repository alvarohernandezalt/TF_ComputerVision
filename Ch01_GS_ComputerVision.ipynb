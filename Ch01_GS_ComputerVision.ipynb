{
  "nbformat": 4,
  "nbformat_minor": 0,
  "metadata": {
    "colab": {
      "provenance": []
    },
    "kernelspec": {
      "name": "python3",
      "display_name": "Python 3"
    },
    "language_info": {
      "name": "python"
    }
  },
  "cells": [
    {
      "cell_type": "markdown",
      "source": [
        "## Getting Started with TensorFlow for Computer Vision\n",
        "\n"
      ],
      "metadata": {
        "id": "F9N7P5zZ2n9C"
      }
    },
    {
      "cell_type": "markdown",
      "source": [
        "### Working with the basic building blocks of the Keras API"
      ],
      "metadata": {
        "id": "s-WWmz1m3TzT"
      }
    },
    {
      "cell_type": "code",
      "source": [
        "# Import the required libraries from the Keras API\n",
        "\n",
        "from sklearn.model_selection import train_test_split\n",
        "from sklearn.preprocessing import LabelBinarizer\n",
        "from tensorflow.keras import Input\n",
        "from tensorflow.keras.datasets import mnist\n",
        "from tensorflow.keras.layers import Dense\n",
        "from tensorflow.keras.models import Model\n",
        "from tensorflow.keras.models import Sequential"
      ],
      "metadata": {
        "id": "jpw7wue73boy"
      },
      "execution_count": 1,
      "outputs": []
    },
    {
      "cell_type": "code",
      "source": [
        "# Create a model using the sequential API by passing a list of layers to the Sequential constructor.\n",
        "# The numbers in each layer correspond to the number of neurons or units it contains.\n",
        "\n",
        "layers = [Dense(256, input_shape=(28 * 28 * 1,),\n",
        "                activation='sigmoid'),\n",
        "          Dense(128, activation='sigmoid'),\n",
        "          Dense(10, activation='softmax')]\n",
        "sequential_model_list = Sequential(layers)"
      ],
      "metadata": {
        "id": "kJE8lPhy35yM"
      },
      "execution_count": 2,
      "outputs": []
    },
    {
      "cell_type": "code",
      "source": [
        "# Create a model using the add() method to add one layer at a time.\n",
        "# The numbers in each layer correspond to the number of neurons or units it contains:\n",
        "\n",
        "sequential_model = Sequential()\n",
        "sequential_model.add(Dense(256, input_shape=(28 * 28 * 1,),\n",
        "                activation='sigmoid'))\n",
        "sequential_model.add(Dense(128, activation='sigmoid'))\n",
        "sequential_model.add(Dense(10, activation='softmax'))"
      ],
      "metadata": {
        "id": "A-pUWKaP6svc"
      },
      "execution_count": 3,
      "outputs": []
    },
    {
      "cell_type": "code",
      "source": [
        "# Create a model using the Functional API.\n",
        "# The numbers in each layer correspond to the number of neurons or units it contains:\n",
        "\n",
        "input_layer = Input(shape=(28 * 28 * 1,))\n",
        "dense_1 = Dense(256, activation='sigmoid')(input_layer)\n",
        "dense_2 = Dense(128, activation='sigmoid')(dense_1)\n",
        "predictions = Dense(10, activation='softmax')(dense_2)\n",
        "functional_model = Model(inputs=input_layer,\n",
        "                         outputs=predictions)\n"
      ],
      "metadata": {
        "id": "R2fF4Jx87hW4"
      },
      "execution_count": 4,
      "outputs": []
    },
    {
      "cell_type": "code",
      "source": [
        "# Create a model using an object-oriented approach by sub-classing tensorflow.keras.models-Model.\n",
        "# The numbers in each layer correspond to the number of neurons or units it contains:\n",
        "\n",
        "class ClassModel(Model):\n",
        "  def __init__(self):\n",
        "    super(ClassModel, self).__init__()\n",
        "    self.dense_1 = Dense(256, activation='sigmoid')\n",
        "    self.dense_2 = Dense(128, activation='sigmoid')\n",
        "    self.predictions = Dense(10, activation='softmax')\n",
        "\n",
        "  def call(self, inputs, **kwargs):\n",
        "    x = self.dense_1(inputs)\n",
        "    x = self.dense_2(x)\n",
        "    return self.predictions(x)\n",
        "\n",
        "class_model = ClassModel()"
      ],
      "metadata": {
        "id": "vS1FPrBu9mfs"
      },
      "execution_count": 5,
      "outputs": []
    },
    {
      "cell_type": "code",
      "source": [
        "# Prepare the data so that we can train all the models we defined previously.\n",
        "# We must reshape the images into vector format because that's the format that's expected by a fully connected network\n",
        "\n",
        "(X_train, y_train), (X_test, y_test) = mnist.load_data()\n",
        "\n",
        "X_train = X_train.reshape((X_train.shape[0], 28 * 28 * 1))\n",
        "X_test = X_test.reshape((X_test.shape[0], 28 * 28 *1))\n",
        "\n",
        "X_train = X_train.astype('float32') / 255.0\n",
        "X_test = X_test.astype('float32') / 255.0"
      ],
      "metadata": {
        "colab": {
          "base_uri": "https://localhost:8080/"
        },
        "id": "tSBr6l5uan8o",
        "outputId": "3d8efb7d-503e-4d39-b275-f56b742bb8f5"
      },
      "execution_count": 6,
      "outputs": [
        {
          "output_type": "stream",
          "name": "stdout",
          "text": [
            "Downloading data from https://storage.googleapis.com/tensorflow/tf-keras-datasets/mnist.npz\n",
            "11490434/11490434 [==============================] - 0s 0us/step\n"
          ]
        }
      ]
    },
    {
      "cell_type": "code",
      "source": [
        "# One-hot encode the labels to break any undesired ordering bias:\n",
        "\n",
        "label_binarizer = LabelBinarizer()\n",
        "y_train = label_binarizer.fit_transform(y_train)\n",
        "y_test = label_binarizer.fit_transform(y_test)"
      ],
      "metadata": {
        "id": "f_L1pxwbcjc3"
      },
      "execution_count": 7,
      "outputs": []
    },
    {
      "cell_type": "code",
      "source": [
        "# Take 20% of the data for validation\n",
        "\n",
        "X_train, X_valid, y_train, y_valid = train_test_split(X_train, y_train, train_size=0.8)"
      ],
      "metadata": {
        "id": "5XLOgHgadvpC"
      },
      "execution_count": 8,
      "outputs": []
    },
    {
      "cell_type": "code",
      "source": [
        "# Compile, train the model for 50 epochs, and evaluate them on the test set\n",
        "\n",
        "models = {\n",
        "    'sequential_model' : sequential_model,\n",
        "    'sequential_model_list': sequential_model_list,\n",
        "    'functional_model': functional_model,\n",
        "    'class_model': class_model\n",
        "}\n",
        "\n",
        "for name, model in models.items():\n",
        "  print(f'Compiling model: {name}')\n",
        "  model.compile(loss='categorical_crossentropy',\n",
        "                optimizer='adam',\n",
        "                metrics=['accuracy'])\n",
        "  print(f'Training model: {name}')\n",
        "  model.fit(X_train, y_train,\n",
        "            validation_data=(X_valid, y_valid),\n",
        "            epochs=50,\n",
        "            batch_size=256,\n",
        "            verbose=0)\n",
        "\n",
        "  _, accuracy = model.evaluate(X_test, y_test, verbose = 0)\n",
        "  print(f'Testing model: {name} . \\nAccuracy: {accuracy}')\n",
        "  print('---')"
      ],
      "metadata": {
        "colab": {
          "base_uri": "https://localhost:8080/"
        },
        "id": "_vaxQxQHeJot",
        "outputId": "3c3ff0f0-012d-4afa-98db-f2b5e2de08e8"
      },
      "execution_count": 10,
      "outputs": [
        {
          "output_type": "stream",
          "name": "stdout",
          "text": [
            "Compiling model: sequential_model\n",
            "Training model: sequential_model\n",
            "Testing model: sequential_model . \n",
            "Accuracy: 0.9818999767303467\n",
            "---\n",
            "Compiling model: sequential_model_list\n",
            "Training model: sequential_model_list\n",
            "Testing model: sequential_model_list . \n",
            "Accuracy: 0.9750000238418579\n",
            "---\n",
            "Compiling model: functional_model\n",
            "Training model: functional_model\n",
            "Testing model: functional_model . \n",
            "Accuracy: 0.980400025844574\n",
            "---\n",
            "Compiling model: class_model\n",
            "Training model: class_model\n",
            "Testing model: class_model . \n",
            "Accuracy: 0.9800000190734863\n",
            "---\n"
          ]
        }
      ]
    },
    {
      "cell_type": "markdown",
      "source": [
        "We defined the same architecture using both the Sequential and Functional APIs, which correspond to the symbolic or declarative way of implementing networks, and also a third tiem using an imperative approach. <br> To make clear that, in the end, the three networks are the same, no matter which approach we took, we trained and evaluated them on the ffamous MNIST dataset, obtaining a decent 98% accuracy on the test set."
      ],
      "metadata": {
        "id": "5X27c4Q6gIE6"
      }
    },
    {
      "cell_type": "markdown",
      "source": [
        "If you are runnning this locally, for the next section of this notebook, you should need to instal `pillow`"
      ],
      "metadata": {
        "id": "yHu72oYzlLfb"
      }
    },
    {
      "cell_type": "code",
      "source": [
        "# pip install pillow"
      ],
      "metadata": {
        "colab": {
          "base_uri": "https://localhost:8080/"
        },
        "id": "E24krM9ik9mf",
        "outputId": "84f1ee4a-5ea9-44a7-d642-49678f7586e1"
      },
      "execution_count": 11,
      "outputs": [
        {
          "output_type": "stream",
          "name": "stdout",
          "text": [
            "Requirement already satisfied: pillow in /usr/local/lib/python3.10/dist-packages (9.4.0)\n"
          ]
        }
      ]
    },
    {
      "cell_type": "markdown",
      "source": [
        "### Loading images using the Keras API"
      ],
      "metadata": {
        "id": "iq1Rp1XZlEYT"
      }
    },
    {
      "cell_type": "code",
      "source": [
        "# Import the necessary packages\n",
        "\n",
        "import glob\n",
        "import os\n",
        "import tarfile\n",
        "import matplotlib.pyplot as plt\n",
        "from tensorflow.keras.preprocessing.image import ImageDataGenerator\n",
        "from tensorflow.keras.preprocessing.image import load_img, img_to_array\n",
        "from tensorflow.keras.utils import get_file"
      ],
      "metadata": {
        "id": "bVQnDzb4lhRJ"
      },
      "execution_count": 12,
      "outputs": []
    },
    {
      "cell_type": "code",
      "source": [
        "# Define the URL and destination of the CINIC-10 dataset, an alternative to the famous CIFAR-10 dataset\n",
        "\n",
        "DATASET_URL = 'https://datashare.is.ed.ac.uk/bitstream/handle/10283/3192/CINIC-10.tar.gz?sequence=4&isAllowed=y'\n",
        "DATA_NAME = 'cinic10'\n",
        "FILE_EXTENSION = 'tar.gz'\n",
        "FILE_NAME = '.'.join([DATA_NAME, FILE_EXTENSION])"
      ],
      "metadata": {
        "id": "RZ4DwQfAmtGW"
      },
      "execution_count": 13,
      "outputs": []
    },
    {
      "cell_type": "code",
      "source": [
        "# Download and decompress the data. By default, it will be stored in ~/.keras/datasets/<FILE_NAME>\n",
        "\n",
        "downloaded_file_location = get_file(origin=DATASET_URL, fname=FILE_NAME, extract=False)\n"
      ],
      "metadata": {
        "colab": {
          "base_uri": "https://localhost:8080/"
        },
        "id": "7_rOUoZOn2A7",
        "outputId": "958be2e5-4884-4924-8834-e63899467e47"
      },
      "execution_count": 14,
      "outputs": [
        {
          "output_type": "stream",
          "name": "stdout",
          "text": [
            "Downloading data from https://datashare.is.ed.ac.uk/bitstream/handle/10283/3192/CINIC-10.tar.gz?sequence=4&isAllowed=y\n",
            "687544992/687544992 [==============================] - 518s 1us/step\n"
          ]
        }
      ]
    },
    {
      "cell_type": "code",
      "source": [
        "# Build the path to the data directory based on the location of the downloaded file\n",
        "data_directory, _ = downloaded_file_location.rsplit(os.path.sep, maxsplit=1)\n",
        "data_directory = os.path.sep.join([data_directory, DATA_NAME])"
      ],
      "metadata": {
        "id": "39rcGo7UqQ7q"
      },
      "execution_count": 15,
      "outputs": []
    },
    {
      "cell_type": "code",
      "source": [
        "# Only extract the data if it hasn´t been extracted yet.\n",
        "if not os.path.exists(data_directory) :\n",
        "  tar = tarfile.open(downloaded_file_location)\n",
        "  tar.extractall(data_directory)"
      ],
      "metadata": {
        "id": "yuad3_COtRLW"
      },
      "execution_count": 16,
      "outputs": []
    },
    {
      "cell_type": "code",
      "source": [
        "# Load all the image paths and print the number of images\n",
        "data_pattern = os.path.sep.join([data_directory, '*/*/*.png'])\n",
        "image_paths = list(glob.glob(data_pattern))\n",
        "print(f'There are {len(image_paths):,} images in the dataset')"
      ],
      "metadata": {
        "colab": {
          "base_uri": "https://localhost:8080/"
        },
        "id": "9K5XBaYKt7NF",
        "outputId": "54c06705-42e9-4f43-afef-a738c9504346"
      },
      "execution_count": 17,
      "outputs": [
        {
          "output_type": "stream",
          "name": "stdout",
          "text": [
            "There are 270,000 images in the dataset\n"
          ]
        }
      ]
    },
    {
      "cell_type": "code",
      "source": [
        "# lOAD A SINGLE IMAGE FROM THE DATA SET AND PRINT ITS METADATA\n",
        "\n",
        "sample_image = load_img(image_paths[0])\n",
        "print(f'Image type: {type(sample_image)}')\n",
        "print(f'Image format: {sample_image.format}')\n",
        "print(f'Image mode: {sample_image.mode}')\n",
        "print(f'Image size: {sample_image.size}')"
      ],
      "metadata": {
        "colab": {
          "base_uri": "https://localhost:8080/"
        },
        "id": "VTogeqSK3H4C",
        "outputId": "746700fb-73c1-4671-c31c-fdcbb49ee80f"
      },
      "execution_count": 19,
      "outputs": [
        {
          "output_type": "stream",
          "name": "stdout",
          "text": [
            "Image type: <class 'PIL.PngImagePlugin.PngImageFile'>\n",
            "Image format: PNG\n",
            "Image mode: RGB\n",
            "Image size: (32, 32)\n"
          ]
        }
      ]
    },
    {
      "cell_type": "code",
      "source": [],
      "metadata": {
        "id": "f55iZIpG8ZGP"
      },
      "execution_count": null,
      "outputs": []
    }
  ]
}