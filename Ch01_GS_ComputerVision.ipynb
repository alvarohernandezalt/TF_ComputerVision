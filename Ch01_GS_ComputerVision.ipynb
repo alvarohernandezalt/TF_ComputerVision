{
  "nbformat": 4,
  "nbformat_minor": 0,
  "metadata": {
    "colab": {
      "provenance": [],
      "gpuType": "T4"
    },
    "kernelspec": {
      "name": "python3",
      "display_name": "Python 3"
    },
    "language_info": {
      "name": "python"
    }
  },
  "cells": [
    {
      "cell_type": "markdown",
      "source": [
        "## Getting Started with TensorFlow for Computer Vision\n",
        "\n"
      ],
      "metadata": {
        "id": "F9N7P5zZ2n9C"
      }
    },
    {
      "cell_type": "markdown",
      "source": [
        "### Working with the basic building blocks of the Keras API"
      ],
      "metadata": {
        "id": "s-WWmz1m3TzT"
      }
    },
    {
      "cell_type": "code",
      "source": [
        "# Import the required libraries from the Keras API\n",
        "\n",
        "from sklearn.model_selection import train_test_split\n",
        "from sklearn.preprocessing import LabelBinarizer\n",
        "from tensorflow.keras import Input\n",
        "from tensorflow.keras.datasets import mnist\n",
        "from tensorflow.keras.layers import Dense\n",
        "from tensorflow.keras.models import Model\n",
        "from tensorflow.keras.models import Sequential"
      ],
      "metadata": {
        "id": "jpw7wue73boy"
      },
      "execution_count": 1,
      "outputs": []
    },
    {
      "cell_type": "code",
      "source": [
        "# Create a model using the sequential API by passing a list of layers to the Sequential constructor.\n",
        "# The numbers in each layer correspond to the number of neurons or units it contains.\n",
        "\n",
        "layers = [Dense(256, input_shape=(28 * 28 * 1,),\n",
        "                activation='sigmoid'),\n",
        "          Dense(128, activation='sigmoid'),\n",
        "          Dense(10, activation='softmax')]\n",
        "sequential_model_list = Sequential(layers)"
      ],
      "metadata": {
        "id": "kJE8lPhy35yM"
      },
      "execution_count": 2,
      "outputs": []
    },
    {
      "cell_type": "code",
      "source": [
        "# Create a model using the add() method to add one layer at a time.\n",
        "# The numbers in each layer correspond to the number of neurons or units it contains:\n",
        "\n",
        "sequential_model = Sequential()\n",
        "sequential_model.add(Dense(256, input_shape=(28 * 28 * 1,),\n",
        "                activation='sigmoid'))\n",
        "sequential_model.add(Dense(128, activation='sigmoid'))\n",
        "sequential_model.add(Dense(10, activation='softmax'))"
      ],
      "metadata": {
        "id": "A-pUWKaP6svc"
      },
      "execution_count": 3,
      "outputs": []
    },
    {
      "cell_type": "code",
      "source": [
        "# Create a model using the Functional API.\n",
        "# The numbers in each layer correspond to the number of neurons or units it contains:\n",
        "\n",
        "input_layer = Input(shape=(28 * 28 * 1,))\n",
        "dense_1 = Dense(256, activation='sigmoid')(input_layer)\n",
        "dense_2 = Dense(128, activation='sigmoid')(dense_1)\n",
        "predictions = Dense(10, activation='softmax')(dense_2)\n",
        "functional_model = Model(inputs=input_layer,\n",
        "                         outputs=predictions)\n"
      ],
      "metadata": {
        "id": "R2fF4Jx87hW4"
      },
      "execution_count": 4,
      "outputs": []
    },
    {
      "cell_type": "code",
      "source": [
        "# Create a model using an object-oriented approach by sub-classing tensorflow.keras.models-Model.\n",
        "# The numbers in each layer correspond to the number of neurons or units it contains:\n",
        "\n",
        "class ClassModel(Model):\n",
        "  def __init__(self):\n",
        "    super(ClassModel, self).__init__()\n",
        "    self.dense_1 = Dense(256, activation='sigmoid')\n",
        "    self.dense_2 = Dense(128, activation='sigmoid')\n",
        "    self.predictions = Dense(10, activation='softmax')\n",
        "\n",
        "  def call(self, inputs, **kwargs):\n",
        "    x = self.dense_1(inputs)\n",
        "    x = self.dense_2(x)\n",
        "    return self.predictions(x)\n",
        "\n",
        "class_model = ClassModel()"
      ],
      "metadata": {
        "id": "vS1FPrBu9mfs"
      },
      "execution_count": 5,
      "outputs": []
    },
    {
      "cell_type": "code",
      "source": [
        "# Prepare the data so that we can train all the models we defined previously.\n",
        "# We must reshape the images into vector format because that's the format that's expected by a fully connected network\n",
        "\n",
        "(X_train, y_train), (X_test, y_test) = mnist.load_data()\n",
        "\n",
        "X_train = X_train.reshape((X_train.shape[0], 28 * 28 * 1))\n",
        "X_test = X_test.reshape((X_test.shape[0], 28 * 28 *1))\n",
        "\n",
        "X_train = X_train.astype('float32') / 255.0\n",
        "X_test = X_test.astype('float32') / 255.0"
      ],
      "metadata": {
        "colab": {
          "base_uri": "https://localhost:8080/"
        },
        "id": "tSBr6l5uan8o",
        "outputId": "c12e522f-abef-4a44-b0fa-a02625e5004e"
      },
      "execution_count": 6,
      "outputs": [
        {
          "output_type": "stream",
          "name": "stdout",
          "text": [
            "Downloading data from https://storage.googleapis.com/tensorflow/tf-keras-datasets/mnist.npz\n",
            "11490434/11490434 [==============================] - 0s 0us/step\n"
          ]
        }
      ]
    },
    {
      "cell_type": "code",
      "source": [
        "# One-hot encode the labels to break any undesired ordering bias:\n",
        "\n",
        "label_binarizer = LabelBinarizer()\n",
        "y_train = label_binarizer.fit_transform(y_train)\n",
        "y_test = label_binarizer.fit_transform(y_test)"
      ],
      "metadata": {
        "id": "f_L1pxwbcjc3"
      },
      "execution_count": 7,
      "outputs": []
    },
    {
      "cell_type": "code",
      "source": [
        "# Take 20% of the data for validation\n",
        "\n",
        "X_train, X_valid, y_train, y_valid = train_test_split(X_train, y_train, train_size=0.8)"
      ],
      "metadata": {
        "id": "5XLOgHgadvpC"
      },
      "execution_count": 8,
      "outputs": []
    },
    {
      "cell_type": "code",
      "source": [
        "# Compile, train the model for 50 epochs, and evaluate them on the test set\n",
        "\n",
        "models = {\n",
        "    'sequential_model' : sequential_model,\n",
        "    'sequential_model_list': sequential_model_list,\n",
        "    'functional_model': functional_model,\n",
        "    'class_model': class_model\n",
        "}\n",
        "\n",
        "for name, model in models.items():\n",
        "  print(f'Compiling model: {name}')\n",
        "  model.compile(loss='categorical_crossentropy',\n",
        "                optimizer='adam',\n",
        "                metrics=['accuracy'])\n",
        "  print(f'Training model: {name}')\n",
        "  model.fit(X_train, y_train,\n",
        "            validation_data=(X_valid, y_valid),\n",
        "            epochs=50,\n",
        "            batch_size=256,\n",
        "            verbose=0)\n",
        "\n",
        "  _, accuracy = model.evaluate(X_test, y_test, verbose = 0)\n",
        "  print(f'Testing model: {name} . \\nAccuracy: {accuracy}')\n",
        "  print('---')"
      ],
      "metadata": {
        "colab": {
          "base_uri": "https://localhost:8080/"
        },
        "id": "_vaxQxQHeJot",
        "outputId": "e7997930-5cb0-432b-cf0b-67109365ec80"
      },
      "execution_count": 9,
      "outputs": [
        {
          "output_type": "stream",
          "name": "stdout",
          "text": [
            "Compiling model: sequential_model\n",
            "Training model: sequential_model\n",
            "Testing model: sequential_model . \n",
            "Accuracy: 0.9797000288963318\n",
            "---\n",
            "Compiling model: sequential_model_list\n",
            "Training model: sequential_model_list\n",
            "Testing model: sequential_model_list . \n",
            "Accuracy: 0.9815999865531921\n",
            "---\n",
            "Compiling model: functional_model\n",
            "Training model: functional_model\n",
            "Testing model: functional_model . \n",
            "Accuracy: 0.9767000079154968\n",
            "---\n",
            "Compiling model: class_model\n",
            "Training model: class_model\n",
            "Testing model: class_model . \n",
            "Accuracy: 0.98089998960495\n",
            "---\n"
          ]
        }
      ]
    },
    {
      "cell_type": "markdown",
      "source": [
        "We defined the same architecture using both the Sequential and Functional APIs, which correspond to the symbolic or declarative way of implementing networks, and also a third tiem using an imperative approach. <br> To make clear that, in the end, the three networks are the same, no matter which approach we took, we trained and evaluated them on the ffamous MNIST dataset, obtaining a decent 98% accuracy on the test set."
      ],
      "metadata": {
        "id": "5X27c4Q6gIE6"
      }
    },
    {
      "cell_type": "markdown",
      "source": [
        "If you are runnning this locally, for the next section of this notebook, you should need to instal `pillow`"
      ],
      "metadata": {
        "id": "yHu72oYzlLfb"
      }
    },
    {
      "cell_type": "code",
      "source": [
        "# pip install pillow"
      ],
      "metadata": {
        "id": "E24krM9ik9mf"
      },
      "execution_count": 10,
      "outputs": []
    },
    {
      "cell_type": "markdown",
      "source": [
        "### Loading images using the Keras API"
      ],
      "metadata": {
        "id": "iq1Rp1XZlEYT"
      }
    },
    {
      "cell_type": "code",
      "source": [
        "# Import the necessary packages\n",
        "\n",
        "import glob\n",
        "import os\n",
        "import tarfile\n",
        "import matplotlib.pyplot as plt\n",
        "from tensorflow.keras.preprocessing.image import ImageDataGenerator\n",
        "from tensorflow.keras.preprocessing.image import load_img, img_to_array\n",
        "from tensorflow.keras.utils import get_file"
      ],
      "metadata": {
        "id": "bVQnDzb4lhRJ"
      },
      "execution_count": 11,
      "outputs": []
    },
    {
      "cell_type": "code",
      "source": [
        "# Define the URL and destination of the CINIC-10 dataset, an alternative to the famous CIFAR-10 dataset\n",
        "\n",
        "DATASET_URL = 'https://datashare.is.ed.ac.uk/bitstream/handle/10283/3192/CINIC-10.tar.gz?sequence=4&isAllowed=y'\n",
        "DATA_NAME = 'cinic10'\n",
        "FILE_EXTENSION = 'tar.gz'\n",
        "FILE_NAME = '.'.join([DATA_NAME, FILE_EXTENSION])"
      ],
      "metadata": {
        "id": "RZ4DwQfAmtGW"
      },
      "execution_count": 12,
      "outputs": []
    },
    {
      "cell_type": "code",
      "source": [
        "# Download and decompress the data. By default, it will be stored in ~/.keras/datasets/<FILE_NAME>\n",
        "\n",
        "downloaded_file_location = get_file(origin=DATASET_URL, fname=FILE_NAME, extract=False)\n"
      ],
      "metadata": {
        "colab": {
          "base_uri": "https://localhost:8080/"
        },
        "id": "7_rOUoZOn2A7",
        "outputId": "172e3be2-f7e4-4ff7-95e1-063b4bc5dba3"
      },
      "execution_count": 13,
      "outputs": [
        {
          "output_type": "stream",
          "name": "stdout",
          "text": [
            "Downloading data from https://datashare.is.ed.ac.uk/bitstream/handle/10283/3192/CINIC-10.tar.gz?sequence=4&isAllowed=y\n",
            "687544992/687544992 [==============================] - 180s 0us/step\n"
          ]
        }
      ]
    },
    {
      "cell_type": "code",
      "source": [
        "# Build the path to the data directory based on the location of the downloaded file\n",
        "data_directory, _ = downloaded_file_location.rsplit(os.path.sep, maxsplit=1)\n",
        "data_directory = os.path.sep.join([data_directory, DATA_NAME])"
      ],
      "metadata": {
        "id": "39rcGo7UqQ7q"
      },
      "execution_count": 14,
      "outputs": []
    },
    {
      "cell_type": "code",
      "source": [
        "# Only extract the data if it hasn´t been extracted yet.\n",
        "if not os.path.exists(data_directory) :\n",
        "  tar = tarfile.open(downloaded_file_location)\n",
        "  tar.extractall(data_directory)"
      ],
      "metadata": {
        "id": "yuad3_COtRLW"
      },
      "execution_count": 15,
      "outputs": []
    },
    {
      "cell_type": "code",
      "source": [
        "# Load all the image paths and print the number of images\n",
        "data_pattern = os.path.sep.join([data_directory, '*/*/*.png'])\n",
        "image_paths = list(glob.glob(data_pattern))\n",
        "print(f'There are {len(image_paths):,} images in the dataset')"
      ],
      "metadata": {
        "colab": {
          "base_uri": "https://localhost:8080/"
        },
        "id": "9K5XBaYKt7NF",
        "outputId": "d309e902-6cd3-43dd-e566-e73a883db342"
      },
      "execution_count": 16,
      "outputs": [
        {
          "output_type": "stream",
          "name": "stdout",
          "text": [
            "There are 270,000 images in the dataset\n"
          ]
        }
      ]
    },
    {
      "cell_type": "code",
      "source": [
        "# lOAD A SINGLE IMAGE FROM THE DATA SET AND PRINT ITS METADATA\n",
        "\n",
        "sample_image = load_img(image_paths[0])\n",
        "print(f'Image type: {type(sample_image)}')\n",
        "print(f'Image format: {sample_image.format}')\n",
        "print(f'Image mode: {sample_image.mode}')\n",
        "print(f'Image size: {sample_image.size}')"
      ],
      "metadata": {
        "colab": {
          "base_uri": "https://localhost:8080/"
        },
        "id": "VTogeqSK3H4C",
        "outputId": "66bda8be-ce54-41f9-c6a0-c2d0685bb2ad"
      },
      "execution_count": 17,
      "outputs": [
        {
          "output_type": "stream",
          "name": "stdout",
          "text": [
            "Image type: <class 'PIL.PngImagePlugin.PngImageFile'>\n",
            "Image format: PNG\n",
            "Image mode: RGB\n",
            "Image size: (32, 32)\n"
          ]
        }
      ]
    },
    {
      "cell_type": "code",
      "source": [
        "# Convert image to a numpy array\n",
        "\n",
        "sample_image_array = img_to_array(sample_image)\n",
        "print(f'Image type: {type(sample_image_array)}')\n",
        "print(f'Image array shape: {sample_image_array.shape}')"
      ],
      "metadata": {
        "colab": {
          "base_uri": "https://localhost:8080/"
        },
        "id": "f55iZIpG8ZGP",
        "outputId": "a79132ca-ec85-4fae-a626-fc5d1864b351"
      },
      "execution_count": 18,
      "outputs": [
        {
          "output_type": "stream",
          "name": "stdout",
          "text": [
            "Image type: <class 'numpy.ndarray'>\n",
            "Image array shape: (32, 32, 3)\n"
          ]
        }
      ]
    },
    {
      "cell_type": "code",
      "source": [
        "# Display a image using `matplotlib`\n",
        "\n",
        "plt.imshow(sample_image_array / 255.0)"
      ],
      "metadata": {
        "colab": {
          "base_uri": "https://localhost:8080/",
          "height": 448
        },
        "id": "_8pXHFxR99vi",
        "outputId": "9e1a56c8-9723-4fc0-fef5-3fd9aab870e2"
      },
      "execution_count": 19,
      "outputs": [
        {
          "output_type": "execute_result",
          "data": {
            "text/plain": [
              "<matplotlib.image.AxesImage at 0x7e123c1831c0>"
            ]
          },
          "metadata": {},
          "execution_count": 19
        },
        {
          "output_type": "display_data",
          "data": {
            "text/plain": [
              "<Figure size 640x480 with 1 Axes>"
            ],
            "image/png": "[encoded data removed]"
          },
          "metadata": {}
        }
      ]
    },
    {
      "cell_type": "code",
      "source": [
        "# Load a batch of images using ImageDataGenerator.\n",
        "# As in the previous step, each image will be rescaled to the range [0,1]\n",
        "\n",
        "image_generator = ImageDataGenerator(horizontal_flip=True, rescale=1.0 / 255.0)"
      ],
      "metadata": {
        "id": "n8krKAjz-7hg"
      },
      "execution_count": 20,
      "outputs": []
    },
    {
      "cell_type": "code",
      "source": [
        "# Using image_generator, we`ll pick and display a random batch of 10 images directly from the directory they are stored in\n",
        "iterator = (image_generator.flow_from_directory(directory=data_directory, batch_size=10))\n",
        "\n",
        "for batch, _ in iterator:\n",
        "  plt.figure(figsize=(5, 5))\n",
        "  for index, image in enumerate(batch, start=1):\n",
        "    ax = plt.subplot(5, 5, index)\n",
        "    plt.imshow(image)\n",
        "    plt.axis('off')\n",
        "  plt.show()\n",
        "  break"
      ],
      "metadata": {
        "colab": {
          "base_uri": "https://localhost:8080/",
          "height": 201
        },
        "id": "ny6-lSVy_-l0",
        "outputId": "4446ee39-f4f0-44f8-f930-54c34fa94640"
      },
      "execution_count": 21,
      "outputs": [
        {
          "output_type": "stream",
          "name": "stdout",
          "text": [
            "Found 270000 images belonging to 3 classes.\n"
          ]
        },
        {
          "output_type": "display_data",
          "data": {
            "text/plain": [
              "<Figure size 500x500 with 10 Axes>"
            ],
            "image/png": "[encoded data removed]"
          },
          "metadata": {}
        }
      ]
    },
    {
      "cell_type": "markdown",
      "source": [
        "### Loading images using the tf.data.dataset API"
      ],
      "metadata": {
        "id": "yxosr7F8BlxE"
      }
    },
    {
      "cell_type": "markdown",
      "source": [
        "It's functional style interface, as well as its high level of optimization, makes it a better alternative than the traditional KerasAPI for large projects, where efficiency and performance is a must."
      ],
      "metadata": {
        "id": "8708HnmDMuEr"
      }
    },
    {
      "cell_type": "code",
      "source": [
        "# Import all the packages needed\n",
        "\n",
        "import os\n",
        "import tarfile\n",
        "import matplotlib.pyplot as plt\n",
        "import numpy as np\n",
        "import tensorflow as tf\n",
        "from tensorflow.keras.utils import get_file"
      ],
      "metadata": {
        "id": "4u--iKWaNLpq"
      },
      "execution_count": 22,
      "outputs": []
    },
    {
      "cell_type": "code",
      "source": [
        "# Define the URL and destination of the CINIC-10 dataset, an alternative to the famous CIFAR-10 dataset\n",
        "\n",
        "DATASET_URL = 'https://datashare.is.ed.ac.uk/bitstream/handle/10283/3192/CINIC-10.tar.gz?sequence=4&isAllowed=y'\n",
        "DATA_NAME = 'cinic10'\n",
        "FILE_EXTENSION = 'tar.gz'\n",
        "FILE_NAME = '.'.join([DATA_NAME, FILE_EXTENSION])"
      ],
      "metadata": {
        "id": "7aMdfcRsNob9"
      },
      "execution_count": 23,
      "outputs": []
    },
    {
      "cell_type": "code",
      "source": [
        "# Download and decompress the data. By default, it will be stored in ~/.keras/datasets/<FILE_NAME>\n",
        "\n",
        "downloaded_file_location = get_file(origin=DATASET_URL, fname=FILE_NAME, extract=False)"
      ],
      "metadata": {
        "id": "_Y9AviJHN0Bo"
      },
      "execution_count": 24,
      "outputs": []
    },
    {
      "cell_type": "code",
      "source": [
        "# Build the path to the data directory based on the location of the downloaded file\n",
        "data_directory, _ = downloaded_file_location.rsplit(os.path.sep, maxsplit=1)\n",
        "data_directory = os.path.sep.join([data_directory, DATA_NAME])"
      ],
      "metadata": {
        "id": "OBnMTgKVN-eR"
      },
      "execution_count": 25,
      "outputs": []
    },
    {
      "cell_type": "code",
      "source": [
        "# Only extract the data if it hasn´t been extracted yet.\n",
        "if not os.path.exists(data_directory) :\n",
        "  tar = tarfile.open(downloaded_file_location)\n",
        "  tar.extractall(data_directory)"
      ],
      "metadata": {
        "id": "J9PVL9cnOB_G"
      },
      "execution_count": 26,
      "outputs": []
    },
    {
      "cell_type": "code",
      "source": [
        "# Create a Dataset of image paths using a glob-like pattern\n",
        "\n",
        "data_pattern = os.path.sep.join([data_directory, '*/*/*.png'])\n",
        "image_dataset = tf.data.Dataset.list_files(data_pattern)"
      ],
      "metadata": {
        "id": "8X54sB5NOF3i"
      },
      "execution_count": 27,
      "outputs": []
    },
    {
      "cell_type": "code",
      "source": [
        "# Take a single path from the dataset and use it to read the corresponding image\n",
        "\n",
        "for file_path in image_dataset.take(1):\n",
        "  sample_path = file_path.numpy()\n",
        "sample_image = tf.io.read_file(sample_path)"
      ],
      "metadata": {
        "id": "hMA1hGroOiul"
      },
      "execution_count": 28,
      "outputs": []
    },
    {
      "cell_type": "code",
      "source": [
        "# Decode the image from its PNG format to a NumPy array\n",
        "\n",
        "sample_image = tf.image.decode_png(sample_image, channels=3)\n",
        "sample_image = sample_image.numpy()"
      ],
      "metadata": {
        "id": "D_hLRfsfPCsc"
      },
      "execution_count": 29,
      "outputs": []
    },
    {
      "cell_type": "code",
      "source": [
        "# Display the image using matplotlib\n",
        "\n",
        "plt.imshow(sample_image / 255.0)"
      ],
      "metadata": {
        "colab": {
          "base_uri": "https://localhost:8080/",
          "height": 448
        },
        "id": "Ig5gn6vBPfrF",
        "outputId": "f209f6fa-206e-4ff9-b7c3-80ea4a8d5254"
      },
      "execution_count": 30,
      "outputs": [
        {
          "output_type": "execute_result",
          "data": {
            "text/plain": [
              "<matplotlib.image.AxesImage at 0x7e120a364dc0>"
            ]
          },
          "metadata": {},
          "execution_count": 30
        },
        {
          "output_type": "display_data",
          "data": {
            "text/plain": [
              "<Figure size 640x480 with 1 Axes>"
            ],
            "image/png": "[encoded data removed]"
          },
          "metadata": {}
        }
      ]
    },
    {
      "cell_type": "code",
      "source": [
        "# Take the first 10 elements of image_dataset, decode and normalize them, and then display them using matplotlib\n",
        "\n",
        "plt.figure(figsize=(5, 5))\n",
        "for index, image_path in enumerate(image_dataset.take(10), start=1):\n",
        "  image = tf.io.read_file(image_path)\n",
        "  image = tf.image.decode_png(image, channels=3)\n",
        "  image = tf.image.convert_image_dtype(image, np.float32)\n",
        "  ax = plt.subplot(5, 5, index)\n",
        "  plt.imshow(image)\n",
        "  plt.axis('off')\n",
        "\n",
        "plt.show()\n",
        "plt.close()"
      ],
      "metadata": {
        "colab": {
          "base_uri": "https://localhost:8080/",
          "height": 183
        },
        "id": "A3FZQ2tvPuUv",
        "outputId": "5af63fff-82ae-4f3c-e455-d89c1bdf1ef3"
      },
      "execution_count": 31,
      "outputs": [
        {
          "output_type": "display_data",
          "data": {
            "text/plain": [
              "<Figure size 500x500 with 10 Axes>"
            ],
            "image/png": "[encoded data removed]"
          },
          "metadata": {}
        }
      ]
    },
    {
      "cell_type": "markdown",
      "source": [
        "### Saving and loading a model"
      ],
      "metadata": {
        "id": "anbXuscbRi_4"
      }
    },
    {
      "cell_type": "code",
      "source": [
        "# Import everything we will need\n",
        "\n",
        "import json\n",
        "import numpy as np\n",
        "from sklearn.model_selection import train_test_split\n",
        "from sklearn.preprocessing import LabelBinarizer\n",
        "from tensorflow.keras import Model\n",
        "from tensorflow.keras.datasets import mnist\n",
        "from tensorflow.keras.layers import BatchNormalization\n",
        "from tensorflow.keras.layers import Conv2D\n",
        "from tensorflow.keras.layers import Dense\n",
        "from tensorflow.keras.layers import Dropout\n",
        "from tensorflow.keras.layers import Flatten\n",
        "from tensorflow.keras.layers import Input\n",
        "from tensorflow.keras.layers import MaxPooling2D\n",
        "from tensorflow.keras.layers import ReLU\n",
        "from tensorflow.keras.layers import Softmax\n",
        "from tensorflow.keras.models import load_model\n",
        "from tensorflow.keras.models import model_from_json"
      ],
      "metadata": {
        "id": "LH4s-PPOLneC"
      },
      "execution_count": 32,
      "outputs": []
    },
    {
      "cell_type": "code",
      "source": [
        "# Define a function that will downoad and prepare the data by normalizing the train and test sets and one-hot encoding the labels\n",
        "\n",
        "def load_data():\n",
        "  (X_train, y_train), (X_test, y_test) = mnist.load_data()\n",
        "\n",
        "  # Normalize data\n",
        "  X_train = X_train.astype('float32') / 255.0\n",
        "  X_test = X_test.astype('float32') / 255.0\n",
        "\n",
        "  # Reshape grayscale to include channel dimension\n",
        "  X_train = np.expand_dims(X_train, axis=3)\n",
        "  X_test = np.expand_dims(X_test, axis=3)\n",
        "\n",
        "  # Process labels\n",
        "  label_binarizer = LabelBinarizer()\n",
        "  y_train = label_binarizer.fit_transform(y_train)\n",
        "  y_test = label_binarizer.fit_transform(y_test)\n",
        "\n",
        "  return X_train, y_train, X_test, y_test"
      ],
      "metadata": {
        "id": "elO6drjSYTMz"
      },
      "execution_count": 33,
      "outputs": []
    },
    {
      "cell_type": "code",
      "source": [
        "# Define a function for building a network\n",
        "# The architecture comprises a single convolutional layer and two fully connected layers\n",
        "\n",
        "def build_network():\n",
        "  input_layer = Input(shape=(28,28,1))\n",
        "  convolution_1 = Conv2D(kernel_size=(2,2),\n",
        "                         padding='same',\n",
        "                         strides = (2,2),\n",
        "                         filters=32)(input_layer)\n",
        "  activation_1 = ReLU()(convolution_1)\n",
        "  batch_normalization_1 = BatchNormalization()(activation_1)\n",
        "  pooling_1 = MaxPooling2D(pool_size=(2,2),\n",
        "                           strides=(1,1),\n",
        "                           padding='same')(batch_normalization_1)\n",
        "  dropout = Dropout(rate=0.5)(pooling_1)\n",
        "  flatten = Flatten()(dropout)\n",
        "  dense_1 = Dense(units=128)(flatten)\n",
        "  activation_2 = ReLU()(dense_1)\n",
        "  dense_2 = Dense(units=10)(activation_2)\n",
        "  output = Softmax()(dense_2)\n",
        "\n",
        "  network = Model(inputs=input_layer, outputs=output)\n",
        "\n",
        "  return network"
      ],
      "metadata": {
        "id": "VwmYdajbZ4hg"
      },
      "execution_count": 34,
      "outputs": []
    },
    {
      "cell_type": "code",
      "source": [
        "# Implement a function that will evaluate a network using the test set\n",
        "\n",
        "def evaluate(model, X_test, y_test):\n",
        "  _, accuracy = model.evaluate(X_test, y_test, verbose=0)\n",
        "  print (f'Accuracy: {accuracy}')"
      ],
      "metadata": {
        "id": "wGkyU3bqcjKt"
      },
      "execution_count": 35,
      "outputs": []
    },
    {
      "cell_type": "code",
      "source": [
        "# Prepare the data, create a validation split, and instiate the neural networks\n",
        "\n",
        "X_train, y_train, X_test, y_test = load_data()\n",
        "X_train, X_valid, y_train, y_valid = train_test_split(X_train, y_train, train_size=0.8)\n",
        "model = build_network()"
      ],
      "metadata": {
        "id": "8pyUKSJ8dJ0_"
      },
      "execution_count": 36,
      "outputs": []
    },
    {
      "cell_type": "code",
      "source": [
        "# Compile and train the model for 50 epochs, with a batch size of 1024\n",
        "# feel free to tune these valus according to the capacity of your machine\n",
        "\n",
        "model.compile(loss='categorical_crossentropy',\n",
        "              optimizer='adam',\n",
        "              metrics=['accuracy'])\n",
        "model.fit(X_train, y_train,\n",
        "          validation_data=(X_valid, y_valid),\n",
        "          epochs=50,\n",
        "          batch_size=1024,\n",
        "          verbose=0)"
      ],
      "metadata": {
        "colab": {
          "base_uri": "https://localhost:8080/"
        },
        "id": "6eeG2_V7OYxz",
        "outputId": "3b83e012-3f1d-4dd3-df69-ab6c3cdd793a"
      },
      "execution_count": 37,
      "outputs": [
        {
          "output_type": "execute_result",
          "data": {
            "text/plain": [
              "<keras.src.callbacks.History at 0x7e1209fe6680>"
            ]
          },
          "metadata": {},
          "execution_count": 37
        }
      ]
    },
    {
      "cell_type": "code",
      "source": [
        "# Save the model, along with its weights in HDF5\n",
        "# Load it again and evaluate the network\n",
        "\n",
        "model.save('model_and_weights.hdf5')\n",
        "\n",
        "loaded_model = load_model('model_and_weights.hdf5')\n",
        "\n",
        "evaluate(loaded_model, X_test, y_test)"
      ],
      "metadata": {
        "colab": {
          "base_uri": "https://localhost:8080/"
        },
        "id": "w2jegHMZQ3gC",
        "outputId": "23fbfefe-6e89-462d-a203-33b6d25dc43d"
      },
      "execution_count": 38,
      "outputs": [
        {
          "output_type": "stream",
          "name": "stderr",
          "text": [
            "/usr/local/lib/python3.10/dist-packages/keras/src/engine/training.py:3079: UserWarning: You are saving your model as an HDF5 file via `model.save()`. This file format is considered legacy. We recommend using instead the native Keras format, e.g. `model.save('my_model.keras')`.\n",
            "  saving_api.save_model(\n"
          ]
        },
        {
          "output_type": "stream",
          "name": "stdout",
          "text": [
            "Accuracy: 0.9835000038146973\n"
          ]
        }
      ]
    },
    {
      "cell_type": "markdown",
      "source": [
        "### Visualizing a model's architecture"
      ],
      "metadata": {
        "id": "9FR3g7VDiesu"
      }
    },
    {
      "cell_type": "markdown",
      "source": [
        "Due to their complexity, one of the most effective ways to debug a neural network is by visualizing its architecture. In this recipe, we'll learn about two different ways we can display a model's architecture:\n",
        "* Using a text summary\n",
        "* Using a visual diagram"
      ],
      "metadata": {
        "id": "3m0WvffMvrEt"
      }
    },
    {
      "cell_type": "code",
      "source": [
        "from PIL import Image\n",
        "from tensorflow.keras import Model\n",
        "from tensorflow.keras.layers import BatchNormalization\n",
        "from tensorflow.keras.layers import Conv2D\n",
        "from tensorflow.keras.layers import Dense\n",
        "from tensorflow.keras.layers import Dropout\n",
        "from tensorflow.keras.layers import Flatten\n",
        "from tensorflow.keras.layers import Input\n",
        "from tensorflow.keras.layers import LeakyReLU\n",
        "from tensorflow.keras.layers import MaxPooling2D\n",
        "from tensorflow.keras.layers import Softmax\n",
        "from tensorflow.keras.utils import plot_model"
      ],
      "metadata": {
        "id": "IEi-jP1N7gDU"
      },
      "execution_count": 39,
      "outputs": []
    },
    {
      "cell_type": "code",
      "source": [
        "input_layer = Input(shape=(64, 64, 3),\n",
        "                     name='input_layer')"
      ],
      "metadata": {
        "id": "_wsi1n4E7lH0"
      },
      "execution_count": 40,
      "outputs": []
    },
    {
      "cell_type": "code",
      "source": [
        "# Here is the first convolution block\n",
        "convolution_1 = Conv2D(kernel_size=(2,2),\n",
        "                       padding='same',\n",
        "                       strides=(2,2),\n",
        "                       filters=32,\n",
        "                       name='convolution_1')(input_layer)\n",
        "activation_1 = LeakyReLU(name='activaton_1')(convolution_1)\n",
        "batch_normalization_1 = BatchNormalization(name='batchnormaliation_1')(activation_1)\n",
        "pooling_1 = MaxPooling2D(pool_size=(2,2),\n",
        "                         strides=(1,1),\n",
        "                         padding='same',\n",
        "                         name='pooling_1')(batch_normalization_1)"
      ],
      "metadata": {
        "id": "utG38QTzwzYD"
      },
      "execution_count": 41,
      "outputs": []
    },
    {
      "cell_type": "code",
      "source": [
        "# The second convolution block\n",
        "convolution_2 = Conv2D(kernel_size=(2,2),\n",
        "                       padding='same',\n",
        "                       strides=(2,2),\n",
        "                       filters=64,\n",
        "                       name='convolution_2')(pooling_1)\n",
        "activation_2 = LeakyReLU(name='activaton_2')(convolution_2)\n",
        "batch_normalization_2 = BatchNormalization(name='batchnormaliation_2')(activation_2)\n",
        "pooling_2 = MaxPooling2D(pool_size=(2,2),\n",
        "                         strides=(1,1),\n",
        "                         padding='same',\n",
        "                         name='pooling_2')(batch_normalization_2)\n",
        "dropout = Dropout(rate=0.5, name='dropout')(pooling_2)"
      ],
      "metadata": {
        "id": "_6m5Fi4KyUYo"
      },
      "execution_count": 42,
      "outputs": []
    },
    {
      "cell_type": "code",
      "source": [
        "# Define the Dense Layers and the model itself\n",
        "flatten = Flatten(name='flatten')(dropout)\n",
        "dense_1 = Dense(units=256, name='dense_1')(flatten)\n",
        "activation_3 = LeakyReLU(name='activation_3')(dense_1)\n",
        "dense_2 = Dense(units=128,name='dense_2')(activation_3)\n",
        "activation_4 = LeakyReLU(name='activation_4')(dense_2)\n",
        "dense_3 = Dense(units=3, name='dense_3')(activation_4)\n",
        "output = Softmax(name='output')(dense_3)\n",
        "\n",
        "model = Model(inputs=input_layer, outputs=output, name='my_model')\n"
      ],
      "metadata": {
        "id": "-ojV_ylN0OGX"
      },
      "execution_count": 43,
      "outputs": []
    },
    {
      "cell_type": "code",
      "source": [
        "print(model.summary())"
      ],
      "metadata": {
        "colab": {
          "base_uri": "https://localhost:8080/"
        },
        "id": "LFSCTXoC2Fhj",
        "outputId": "f89ce8c0-3ab3-4d5f-9fe2-00b9c75bcaf0"
      },
      "execution_count": 44,
      "outputs": [
        {
          "output_type": "stream",
          "name": "stdout",
          "text": [
            "Model: \"my_model\"\n",
            "_________________________________________________________________\n",
            " Layer (type)                Output Shape              Param #   \n",
            "=================================================================\n",
            " input_layer (InputLayer)    [(None, 64, 64, 3)]       0         \n",
            "                                                                 \n",
            " convolution_1 (Conv2D)      (None, 32, 32, 32)        416       \n",
            "                                                                 \n",
            " activaton_1 (LeakyReLU)     (None, 32, 32, 32)        0         \n",
            "                                                                 \n",
            " batchnormaliation_1 (Batch  (None, 32, 32, 32)        128       \n",
            " Normalization)                                                  \n",
            "                                                                 \n",
            " pooling_1 (MaxPooling2D)    (None, 32, 32, 32)        0         \n",
            "                                                                 \n",
            " convolution_2 (Conv2D)      (None, 16, 16, 64)        8256      \n",
            "                                                                 \n",
            " activaton_2 (LeakyReLU)     (None, 16, 16, 64)        0         \n",
            "                                                                 \n",
            " batchnormaliation_2 (Batch  (None, 16, 16, 64)        256       \n",
            " Normalization)                                                  \n",
            "                                                                 \n",
            " pooling_2 (MaxPooling2D)    (None, 16, 16, 64)        0         \n",
            "                                                                 \n",
            " dropout (Dropout)           (None, 16, 16, 64)        0         \n",
            "                                                                 \n",
            " flatten (Flatten)           (None, 16384)             0         \n",
            "                                                                 \n",
            " dense_1 (Dense)             (None, 256)               4194560   \n",
            "                                                                 \n",
            " activation_3 (LeakyReLU)    (None, 256)               0         \n",
            "                                                                 \n",
            " dense_2 (Dense)             (None, 128)               32896     \n",
            "                                                                 \n",
            " activation_4 (LeakyReLU)    (None, 128)               0         \n",
            "                                                                 \n",
            " dense_3 (Dense)             (None, 3)                 387       \n",
            "                                                                 \n",
            " output (Softmax)            (None, 3)                 0         \n",
            "                                                                 \n",
            "=================================================================\n",
            "Total params: 4236899 (16.16 MB)\n",
            "Trainable params: 4236707 (16.16 MB)\n",
            "Non-trainable params: 192 (768.00 Byte)\n",
            "_________________________________________________________________\n",
            "None\n"
          ]
        }
      ]
    },
    {
      "cell_type": "code",
      "source": [
        "# Plot a diagram of the network architecture\n",
        "plot_model(model,\n",
        "            show_shapes=True,\n",
        "            show_layer_names=True,\n",
        "            to_file='my_model.jpg')\n",
        "model_diagram = Image.open('my_model.jpg')"
      ],
      "metadata": {
        "id": "fu9Hj3_k9F17"
      },
      "execution_count": 45,
      "outputs": []
    },
    {
      "cell_type": "markdown",
      "source": [
        "### Creating a basic image classifier"
      ],
      "metadata": {
        "id": "jVntfKv--F9Q"
      }
    },
    {
      "cell_type": "markdown",
      "source": [
        "We'll close this chapter by implementing an image classifier on Fashion-MNIST, a popular alternative to minst. this will help us consolidate the knowledge we`ve acquired from the previous recipes. If, at any point, you need more details on a particular step, please refer to the previous recipes."
      ],
      "metadata": {
        "id": "I-SB4ATIzv9u"
      }
    },
    {
      "cell_type": "code",
      "source": [
        "pip install Pillow pydot\n"
      ],
      "metadata": {
        "colab": {
          "base_uri": "https://localhost:8080/"
        },
        "id": "3yFQczar0gna",
        "outputId": "058572eb-ab6a-45d1-d460-fa9e80a4d52a"
      },
      "execution_count": 46,
      "outputs": [
        {
          "output_type": "stream",
          "name": "stdout",
          "text": [
            "Requirement already satisfied: Pillow in /usr/local/lib/python3.10/dist-packages (9.4.0)\n",
            "Requirement already satisfied: pydot in /usr/local/lib/python3.10/dist-packages (1.4.2)\n",
            "Requirement already satisfied: pyparsing>=2.1.4 in /usr/local/lib/python3.10/dist-packages (from pydot) (3.1.1)\n"
          ]
        }
      ]
    },
    {
      "cell_type": "markdown",
      "source": [
        "We'll use the tensorflow_docs package to plot the loss and accuracy curves of the model. You can install this library with the following command"
      ],
      "metadata": {
        "id": "AAGXBqUe05oa"
      }
    },
    {
      "cell_type": "code",
      "source": [
        "pip install git+https://github.com/tensorflow/docs"
      ],
      "metadata": {
        "colab": {
          "base_uri": "https://localhost:8080/"
        },
        "id": "UdIkWmYc0kFw",
        "outputId": "ee4a2bad-4279-4cd8-c309-7841df1747b0"
      },
      "execution_count": 47,
      "outputs": [
        {
          "output_type": "stream",
          "name": "stdout",
          "text": [
            "Collecting git+https://github.com/tensorflow/docs\n",
            "  Cloning https://github.com/tensorflow/docs to /tmp/pip-req-build-yhq85s_q\n",
            "  Running command git clone --filter=blob:none --quiet https://github.com/tensorflow/docs /tmp/pip-req-build-yhq85s_q\n",
            "  Resolved https://github.com/tensorflow/docs to commit ec765851b8312bdc4dcf685e41020ce568c7bff2\n",
            "  Preparing metadata (setup.py) ... \u001b[?25l\u001b[?25hdone\n",
            "Collecting astor (from tensorflow-docs==2023.10.27.81990)\n",
            "  Downloading astor-0.8.1-py2.py3-none-any.whl (27 kB)\n",
            "Requirement already satisfied: absl-py in /usr/local/lib/python3.10/dist-packages (from tensorflow-docs==2023.10.27.81990) (1.4.0)\n",
            "Requirement already satisfied: jinja2 in /usr/local/lib/python3.10/dist-packages (from tensorflow-docs==2023.10.27.81990) (3.1.2)\n",
            "Requirement already satisfied: nbformat in /usr/local/lib/python3.10/dist-packages (from tensorflow-docs==2023.10.27.81990) (5.9.2)\n",
            "Requirement already satisfied: protobuf>=3.12 in /usr/local/lib/python3.10/dist-packages (from tensorflow-docs==2023.10.27.81990) (3.20.3)\n",
            "Requirement already satisfied: pyyaml in /usr/local/lib/python3.10/dist-packages (from tensorflow-docs==2023.10.27.81990) (6.0.1)\n",
            "Requirement already satisfied: MarkupSafe>=2.0 in /usr/local/lib/python3.10/dist-packages (from jinja2->tensorflow-docs==2023.10.27.81990) (2.1.3)\n",
            "Requirement already satisfied: fastjsonschema in /usr/local/lib/python3.10/dist-packages (from nbformat->tensorflow-docs==2023.10.27.81990) (2.19.0)\n",
            "Requirement already satisfied: jsonschema>=2.6 in /usr/local/lib/python3.10/dist-packages (from nbformat->tensorflow-docs==2023.10.27.81990) (4.19.2)\n",
            "Requirement already satisfied: jupyter-core in /usr/local/lib/python3.10/dist-packages (from nbformat->tensorflow-docs==2023.10.27.81990) (5.5.0)\n",
            "Requirement already satisfied: traitlets>=5.1 in /usr/local/lib/python3.10/dist-packages (from nbformat->tensorflow-docs==2023.10.27.81990) (5.7.1)\n",
            "Requirement already satisfied: attrs>=22.2.0 in /usr/local/lib/python3.10/dist-packages (from jsonschema>=2.6->nbformat->tensorflow-docs==2023.10.27.81990) (23.1.0)\n",
            "Requirement already satisfied: jsonschema-specifications>=2023.03.6 in /usr/local/lib/python3.10/dist-packages (from jsonschema>=2.6->nbformat->tensorflow-docs==2023.10.27.81990) (2023.11.1)\n",
            "Requirement already satisfied: referencing>=0.28.4 in /usr/local/lib/python3.10/dist-packages (from jsonschema>=2.6->nbformat->tensorflow-docs==2023.10.27.81990) (0.31.0)\n",
            "Requirement already satisfied: rpds-py>=0.7.1 in /usr/local/lib/python3.10/dist-packages (from jsonschema>=2.6->nbformat->tensorflow-docs==2023.10.27.81990) (0.13.0)\n",
            "Requirement already satisfied: platformdirs>=2.5 in /usr/local/lib/python3.10/dist-packages (from jupyter-core->nbformat->tensorflow-docs==2023.10.27.81990) (4.0.0)\n",
            "Building wheels for collected packages: tensorflow-docs\n",
            "  Building wheel for tensorflow-docs (setup.py) ... \u001b[?25l\u001b[?25hdone\n",
            "  Created wheel for tensorflow-docs: filename=tensorflow_docs-2023.10.27.81990-py3-none-any.whl size=184142 sha256=b537f3e1954fe405a40332929df772db4aeb740431c2b24d55af86e3a8b003c1\n",
            "  Stored in directory: /tmp/pip-ephem-wheel-cache-v4lm90od/wheels/86/0f/1e/3b62293c8ffd0fd5a49508e6871cdb7554abe9c62afd35ec53\n",
            "Successfully built tensorflow-docs\n",
            "Installing collected packages: astor, tensorflow-docs\n",
            "Successfully installed astor-0.8.1 tensorflow-docs-2023.10.27.81990\n"
          ]
        }
      ]
    },
    {
      "cell_type": "code",
      "source": [
        "# Import the necessary packages\n",
        "\n",
        "import matplotlib.pyplot as plt\n",
        "import numpy as np\n",
        "import tensorflow as tf\n",
        "import tensorflow_docs as tfdocs\n",
        "import tensorflow_docs.plots\n",
        "from sklearn.model_selection import train_test_split\n",
        "from sklearn.preprocessing import LabelBinarizer\n",
        "from tensorflow.keras import Model\n",
        "from tensorflow.keras.datasets import fashion_mnist as fm\n",
        "from tensorflow.keras.layers import BatchNormalization\n",
        "from tensorflow.keras.layers import Conv2D\n",
        "from tensorflow.keras.layers import Dense\n",
        "from tensorflow.keras.layers import Dropout\n",
        "from tensorflow.keras.layers import ELU\n",
        "from tensorflow.keras.layers import Flatten\n",
        "from tensorflow.keras.layers import Input\n",
        "from tensorflow.keras.layers import MaxPooling2D\n",
        "from tensorflow.keras.layers import Softmax\n",
        "from tensorflow.keras.models import load_model\n",
        "from tensorflow.keras.utils import plot_model"
      ],
      "metadata": {
        "id": "yJbkCwrl0tfQ"
      },
      "execution_count": 59,
      "outputs": []
    },
    {
      "cell_type": "markdown",
      "source": [
        "DEfine a function that will load and prepare the dataset. It will normalize the data, one-hot encode the labels, take a portion of the traing set for validation, and wrap the three data subsets into three separate `tf.data.Dataset`instances to increase performance using `from_tensor_slices()`:"
      ],
      "metadata": {
        "id": "xhfeY2nD6Mq7"
      }
    },
    {
      "cell_type": "code",
      "source": [
        "def load_dataset():\n",
        "  (X_train, y_train), (X_test, y_test) = fm.load_data()\n",
        "\n",
        "  X_train = X_train.astype('float32') / 255.0\n",
        "  X_test = X_test.astype('float32') / 255.0\n",
        "\n",
        "  # Reshape grayscale to include channel dimension\n",
        "  X_train = np.expand_dims(X_train, axis=3)\n",
        "  X_test = np.expand_dims(X_test, axis=3)\n",
        "\n",
        "  label_binarizer = LabelBinarizer()\n",
        "  y_train = label_binarizer.fit_transform(y_train)\n",
        "  y_test = label_binarizer.fit_transform(y_test)\n",
        "\n",
        "  (X_train, X_val, y_train, y_val) = train_test_split (X_train, y_train, train_size=0.8)\n",
        "  train_dataset = (tf.data.Dataset.from_tensor_slices((X_train, y_train)))\n",
        "  val_dataset = (tf.data.Dataset.from_tensor_slices((X_val, y_val)))\n",
        "  test_dataset = (tf.data.Dataset.from_tensor_slices((X_test, y_test)))\n",
        "\n",
        "  return train_dataset, val_dataset, test_dataset"
      ],
      "metadata": {
        "id": "XJ5mc2X33ImM"
      },
      "execution_count": 66,
      "outputs": []
    },
    {
      "cell_type": "markdown",
      "source": [
        "Implement a function that will build a network similar to **LeNet** with the addition of `BatchNormalization`, which we'll use to make the network faster and most stable, and `Dropout`layers, which will help us combat overfitting, a situation where the network loses generalization power due to high variance:"
      ],
      "metadata": {
        "id": "IkbgM6NP6xxz"
      }
    },
    {
      "cell_type": "code",
      "source": [
        "def build_network():\n",
        "  input_layer = Input(shape=(28, 28, 1))\n",
        "  x = Conv2D(filters=20,\n",
        "             kernel_size=(5,5),\n",
        "             padding='same',\n",
        "             strides=(1,1))(input_layer)\n",
        "  x = ELU()(x)\n",
        "  x = BatchNormalization()(x)\n",
        "  x = MaxPooling2D(pool_size=(2,2), strides=(2, 2))(x)\n",
        "  x = Dropout(0.5)(x)\n",
        "  x = Conv2D(filters=50, kernel_size=(5,5), padding='same', strides=(1,1))(x)\n",
        "  x = ELU()(x)\n",
        "  x = BatchNormalization()(x)\n",
        "  x = MaxPooling2D(pool_size=(2,2), strides=(2,2))(x)\n",
        "  x = Dropout(0.5)(x)\n",
        "  x = Flatten()(x)\n",
        "  x = Dense(units=500)(x)\n",
        "  x = ELU()(x)\n",
        "  x = Dropout(0.5)(x)\n",
        "  x = Dense(10)(x)\n",
        "\n",
        "  output = Softmax()(x)\n",
        "\n",
        "  model = Model(inputs=input_layer, outputs=output)\n",
        "  return model\n",
        ""
      ],
      "metadata": {
        "id": "p39rO_5w8I-h"
      },
      "execution_count": 67,
      "outputs": []
    },
    {
      "cell_type": "markdown",
      "source": [
        "Define  a function that takes a model's training history, along with a metric of interest, to create a plot corresponding to the training and validation of the curves of such a metric"
      ],
      "metadata": {
        "id": "4zJy51MKP-67"
      }
    },
    {
      "cell_type": "code",
      "source": [
        "def plot_model_history(model_history, metric, ylim=None):\n",
        "  plt.style.use('seaborn-darkgrid')\n",
        "  plotter = tfdocs.plots.HistoryPlotter()\n",
        "  plotter.plot({'Model': model_history}, metric=metric)\n",
        "\n",
        "  plt.title(f'{metric.upper()}')\n",
        "  if ylim is None:\n",
        "    plt.ylim([0,1])\n",
        "  else:\n",
        "    plt.ylim(ylim)\n",
        "\n",
        "  plt.savefig(f'{metric}.png')\n",
        "  plt.close()"
      ],
      "metadata": {
        "id": "EQk3lRlxQTC3"
      },
      "execution_count": 68,
      "outputs": []
    },
    {
      "cell_type": "markdown",
      "source": [
        "Consume the training and validation datasets in batches of 256 images at a time. The `prefetch()`method spawns a background thread that populates a buffer of size 1024 with image batches."
      ],
      "metadata": {
        "id": "NzHaXaAJbB5r"
      }
    },
    {
      "cell_type": "code",
      "source": [
        "BATCH_SIZE = 256\n",
        "BUFFER_SIZE = 1024\n",
        "\n",
        "train_dataset, val_dataset, test_dataset = load_dataset()\n",
        "\n",
        "train_dataset = (train_dataset\n",
        "                 .shuffle(buffer_size=BUFFER_SIZE)\n",
        "                 .batch(BATCH_SIZE)\n",
        "                 .prefetch(buffer_size=BUFFER_SIZE))\n",
        "\n",
        "val_dataset = (val_dataset\n",
        "               .batch(BATCH_SIZE)\n",
        "               .prefetch(buffer_size=BUFFER_SIZE))\n",
        "\n",
        "test_dataset = test_dataset.batch(BATCH_SIZE)\n"
      ],
      "metadata": {
        "id": "xRvUKBRoatvv"
      },
      "execution_count": 69,
      "outputs": []
    },
    {
      "cell_type": "markdown",
      "source": [
        "Build an train the network"
      ],
      "metadata": {
        "id": "JZ1jv7sVcKcc"
      }
    },
    {
      "cell_type": "code",
      "source": [
        "EPOCHS = 100\n",
        "\n",
        "model = build_network()\n",
        "model.compile(loss='categorical_crossentropy', optimizer='adam', metrics=['accuracy'])\n",
        "\n",
        "model_history = model.fit(train_dataset, validation_data=val_dataset, epochs=EPOCHS, verbose=0)"
      ],
      "metadata": {
        "id": "kyQqUFE1fxKx"
      },
      "execution_count": null,
      "outputs": []
    },
    {
      "cell_type": "markdown",
      "source": [
        "Plot the training and validation loss and accuracy:"
      ],
      "metadata": {
        "id": "NaYe3xBdgQQ8"
      }
    },
    {
      "cell_type": "code",
      "source": [
        "plot_model_history(model_history, 'loss', [0., 2.0])\n",
        "plot_model_history(model_history, 'accuracy')"
      ],
      "metadata": {
        "id": "ypMDgoHmghiQ"
      },
      "execution_count": null,
      "outputs": []
    },
    {
      "cell_type": "markdown",
      "source": [
        "Visualize the model's architecture"
      ],
      "metadata": {
        "id": "8C39R3tkhKsi"
      }
    },
    {
      "cell_type": "code",
      "source": [
        "plot_model(model, show_shapes=True, show_layer_names=True, to_file='model.png')"
      ],
      "metadata": {
        "id": "EsyYjJJ-hPMJ"
      },
      "execution_count": null,
      "outputs": []
    },
    {
      "cell_type": "markdown",
      "source": [
        "Save the model"
      ],
      "metadata": {
        "id": "b5HBFm9PhZNd"
      }
    },
    {
      "cell_type": "code",
      "source": [
        "model.save('model.hdf5')"
      ],
      "metadata": {
        "id": "NPY-Uw4vhdk7"
      },
      "execution_count": null,
      "outputs": []
    },
    {
      "cell_type": "markdown",
      "source": [
        "Load and evaluate the model:"
      ],
      "metadata": {
        "id": "9tXxL3ObhiDa"
      }
    },
    {
      "cell_type": "code",
      "source": [
        "loaded_model = load_model('model.hdf5')\n",
        "results = loaded_model.evaluate(test_dataset, verbose=0)\n",
        "print(f'Loss: {results[0]}, Accuracy: {results[1]}')"
      ],
      "metadata": {
        "id": "1V92XVwphlSE"
      },
      "execution_count": null,
      "outputs": []
    },
    {
      "cell_type": "code",
      "source": [],
      "metadata": {
        "id": "MNIDj2NEh8EV"
      },
      "execution_count": null,
      "outputs": []
    }
  ]
}