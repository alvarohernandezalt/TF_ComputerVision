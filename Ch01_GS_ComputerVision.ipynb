{
  "nbformat": 4,
  "nbformat_minor": 0,
  "metadata": {
    "colab": {
      "provenance": []
    },
    "kernelspec": {
      "name": "python3",
      "display_name": "Python 3"
    },
    "language_info": {
      "name": "python"
    }
  },
  "cells": [
    {
      "cell_type": "markdown",
      "source": [
        "## Getting Started with TensorFlow for Computer Vision\n",
        "\n"
      ],
      "metadata": {
        "id": "F9N7P5zZ2n9C"
      }
    },
    {
      "cell_type": "markdown",
      "source": [
        "### Working with the basic building blocks of the Keras API"
      ],
      "metadata": {
        "id": "s-WWmz1m3TzT"
      }
    },
    {
      "cell_type": "code",
      "source": [
        "# Import the required libraries from the Keras API\n",
        "\n",
        "from sklearn.model_selection import train_test_split\n",
        "from sklearn.preprocessing import LabelBinarizer\n",
        "from tensorflow.keras import Input\n",
        "from tensorflow.keras.datasets import mnist\n",
        "from tensorflow.keras.layers import Dense\n",
        "from tensorflow.keras.models import Model\n",
        "from tensorflow.keras.models import Sequential"
      ],
      "metadata": {
        "id": "jpw7wue73boy"
      },
      "execution_count": 1,
      "outputs": []
    },
    {
      "cell_type": "code",
      "source": [
        "# Create a model using the sequential API by passing a list of layers to the Sequential constructor.\n",
        "# The numbers in each layer correspond to the number of neurons or units it contains.\n",
        "\n",
        "layers = [Dense(256, input_shape=(28 * 28 * 1,),\n",
        "                activation='sigmoid'),\n",
        "          Dense(128, activation='sigmoid'),\n",
        "          Dense(10, activation='softmax')]\n",
        "sequential_model_list = Sequential(layers)"
      ],
      "metadata": {
        "id": "kJE8lPhy35yM"
      },
      "execution_count": 2,
      "outputs": []
    },
    {
      "cell_type": "code",
      "source": [
        "# Create a model using the add() method to add one layer at a time.\n",
        "# The numbers in each layer correspond to the number of neurons or units it contains:\n",
        "\n",
        "sequential_model = Sequential()\n",
        "sequential_model.add(Dense(256, input_shape=(28 * 28 * 1,),\n",
        "                activation='sigmoid'))\n",
        "sequential_model.add(Dense(128, activation='sigmoid'))\n",
        "sequential_model.add(Dense(10, activation='softmax'))"
      ],
      "metadata": {
        "id": "A-pUWKaP6svc"
      },
      "execution_count": 3,
      "outputs": []
    },
    {
      "cell_type": "code",
      "source": [
        "# Create a model using the Functional API.\n",
        "# The numbers in each layer correspond to the number of neurons or units it contains:\n",
        "\n",
        "input_layer = Input(shape=(28 * 28 * 1,))\n",
        "dense_1 = Dense(256, activation='sigmoid')(input_layer)\n",
        "dense_2 = Dense(128, activation='sigmoid')(dense_1)\n",
        "predictions = Dense(10, activation='softmax')(dense_2)\n",
        "functional_model = Model(inputs=input_layer,\n",
        "                         outputs=predictions)\n"
      ],
      "metadata": {
        "id": "R2fF4Jx87hW4"
      },
      "execution_count": 4,
      "outputs": []
    },
    {
      "cell_type": "code",
      "source": [
        "# Create a model using an object-oriented approach by sub-classing tensorflow.keras.models-Model.\n",
        "# The numbers in each layer correspond to the number of neurons or units it contains:\n",
        "\n",
        "class ClassModel(Model):\n",
        "  def __init__(self):\n",
        "    super(ClassModel, self).__init__()\n",
        "    self.dense_1 = Dense(256, activation='sigmoid')\n",
        "    self.dense_2 = Dense(128, activation='sigmoid')\n",
        "    self.predictions = Dense(10, activation='softmax')\n",
        "\n",
        "  def call(self, inputs, **kwargs):\n",
        "    x = self.dense_1(inputs)\n",
        "    x = self.dense_2(x)\n",
        "    return self.predictions(x)\n",
        "\n",
        "class_model = ClassModel()"
      ],
      "metadata": {
        "id": "vS1FPrBu9mfs"
      },
      "execution_count": 5,
      "outputs": []
    },
    {
      "cell_type": "code",
      "source": [
        "# Prepare the data so that we can train all the models we defined previously.\n",
        "# We must reshape the images into vector format because that's the format that's expected by a fully connected network\n",
        "\n",
        "(X_train, y_train), (X_test, y_test) = mnist.load_data()\n",
        "\n",
        "X_train = X_train.reshape((X_train.shape[0], 28 * 28 * 1))\n",
        "X_test = X_test.reshape((X_test.shape[0], 28 * 28 *1))\n",
        "\n",
        "X_train = X_train.astype('float32') / 255.0\n",
        "X_test = X_test.astype('float32') / 255.0"
      ],
      "metadata": {
        "colab": {
          "base_uri": "https://localhost:8080/"
        },
        "id": "tSBr6l5uan8o",
        "outputId": "3d8efb7d-503e-4d39-b275-f56b742bb8f5"
      },
      "execution_count": 6,
      "outputs": [
        {
          "output_type": "stream",
          "name": "stdout",
          "text": [
            "Downloading data from https://storage.googleapis.com/tensorflow/tf-keras-datasets/mnist.npz\n",
            "11490434/11490434 [==============================] - 0s 0us/step\n"
          ]
        }
      ]
    },
    {
      "cell_type": "code",
      "source": [
        "# One-hot encode the labels to break any undesired ordering bias:\n",
        "\n",
        "label_binarizer = LabelBinarizer()\n",
        "y_train = label_binarizer.fit_transform(y_train)\n",
        "y_test = label_binarizer.fit_transform(y_test)"
      ],
      "metadata": {
        "id": "f_L1pxwbcjc3"
      },
      "execution_count": 7,
      "outputs": []
    },
    {
      "cell_type": "code",
      "source": [
        "# Take 20% of the data for validation\n",
        "\n",
        "X_train, X_valid, y_train, y_valid = train_test_split(X_train, y_train, train_size=0.8)"
      ],
      "metadata": {
        "id": "5XLOgHgadvpC"
      },
      "execution_count": 8,
      "outputs": []
    },
    {
      "cell_type": "code",
      "source": [
        "# Compile, train the model for 50 epochs, and evaluate them on the test set\n",
        "\n",
        "models = {\n",
        "    'sequential_model' : sequential_model,\n",
        "    'sequential_model_list': sequential_model_list,\n",
        "    'functional_model': functional_model,\n",
        "    'class_model': class_model\n",
        "}\n",
        "\n",
        "for name, model in models.items():\n",
        "  print(f'Compiling model: {name}')\n",
        "  model.compile(loss='categorical_crossentropy',\n",
        "                optimizer='adam',\n",
        "                metrics=['accuracy'])\n",
        "  print(f'Training model: {name}')\n",
        "  model.fit(X_train, y_train,\n",
        "            validation_data=(X_valid, y_valid),\n",
        "            epochs=50,\n",
        "            batch_size=256,\n",
        "            verbose=0)\n",
        "\n",
        "  _, accuracy = model.evaluate(X_test, y_test, verbose = 0)\n",
        "  print(f'Testing model: {name} . \\nAccuracy: {accuracy}')\n",
        "  print('---')"
      ],
      "metadata": {
        "colab": {
          "base_uri": "https://localhost:8080/"
        },
        "id": "_vaxQxQHeJot",
        "outputId": "3c3ff0f0-012d-4afa-98db-f2b5e2de08e8"
      },
      "execution_count": 10,
      "outputs": [
        {
          "output_type": "stream",
          "name": "stdout",
          "text": [
            "Compiling model: sequential_model\n",
            "Training model: sequential_model\n",
            "Testing model: sequential_model . \n",
            "Accuracy: 0.9818999767303467\n",
            "---\n",
            "Compiling model: sequential_model_list\n",
            "Training model: sequential_model_list\n",
            "Testing model: sequential_model_list . \n",
            "Accuracy: 0.9750000238418579\n",
            "---\n",
            "Compiling model: functional_model\n",
            "Training model: functional_model\n",
            "Testing model: functional_model . \n",
            "Accuracy: 0.980400025844574\n",
            "---\n",
            "Compiling model: class_model\n",
            "Training model: class_model\n",
            "Testing model: class_model . \n",
            "Accuracy: 0.9800000190734863\n",
            "---\n"
          ]
        }
      ]
    },
    {
      "cell_type": "code",
      "source": [],
      "metadata": {
        "id": "5X27c4Q6gIE6"
      },
      "execution_count": null,
      "outputs": []
    }
  ]
}